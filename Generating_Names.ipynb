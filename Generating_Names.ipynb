{
  "nbformat": 4,
  "nbformat_minor": 0,
  "metadata": {
    "colab": {
      "name": "Generating Names.ipynb",
      "provenance": [],
      "collapsed_sections": []
    },
    "kernelspec": {
      "name": "python3",
      "display_name": "Python 3"
    },
    "accelerator": "GPU"
  },
  "cells": [
    {
      "cell_type": "code",
      "metadata": {
        "id": "rgtK-UGNp-Ow",
        "colab_type": "code",
        "colab": {}
      },
      "source": [
        "!wget -q https://download.pytorch.org/tutorial/data.zip\n",
        "!unzip -q data.zip\n",
        "!rm data.zip"
      ],
      "execution_count": 0,
      "outputs": []
    },
    {
      "cell_type": "code",
      "metadata": {
        "id": "RiNrTHssrjYl",
        "colab_type": "code",
        "outputId": "168f4ae2-96d1-47fb-af7e-9d9d02e9dd8c",
        "colab": {
          "base_uri": "https://localhost:8080/",
          "height": 72
        }
      },
      "source": [
        "import glob \n",
        "import unicodedata\n",
        "import string \n",
        "import os \n",
        "import torch \n",
        "\n",
        "def findFiles(filepath): return glob.glob(filepath)\n",
        "\n",
        "print(findFiles('data/names/*.txt'))\n",
        "\n",
        "all_letters = string.ascii_letters + \" .,;'\"\n",
        "n_letters = len(all_letters) + 1\n",
        "\n",
        "# Turn a Unicode string to plain ASCII, thanks to https://stackoverflow.com/a/518232/2809427\n",
        "def unicodeToAscii(s):\n",
        "  return ''.join(\n",
        "      c for c in unicodedata.normalize('NFD', s)\n",
        "      if unicodedata.category(c) != 'Mn' \n",
        "      and c in all_letters\n",
        "  )\n",
        "\n",
        "print(unicodeToAscii('đau để trưởng thành.'))\n",
        "\n",
        "category_lines = {}\n",
        "all_categories = []\n",
        "\n",
        "def readlines(filename):\n",
        "  lines = open(filename, encoding='utf8').read().strip().split('\\n')\n",
        "  return [unicodeToAscii(line) for line in lines]\n",
        "\n",
        "for filename in findFiles('data/names/*.txt'):\n",
        "  category = os.path.splitext(os.path.basename(filename))[0]\n",
        "  all_categories.append(category)\n",
        "  lines = readlines(filename)\n",
        "  category_lines[category] = lines\n",
        "\n",
        "n_categories = len(all_categories)"
      ],
      "execution_count": 0,
      "outputs": [
        {
          "output_type": "stream",
          "text": [
            "['data/names/Greek.txt', 'data/names/Vietnamese.txt', 'data/names/German.txt', 'data/names/Dutch.txt', 'data/names/Irish.txt', 'data/names/Scottish.txt', 'data/names/Chinese.txt', 'data/names/French.txt', 'data/names/Czech.txt', 'data/names/Italian.txt', 'data/names/Russian.txt', 'data/names/Korean.txt', 'data/names/Arabic.txt', 'data/names/Portuguese.txt', 'data/names/Japanese.txt', 'data/names/Spanish.txt', 'data/names/Polish.txt', 'data/names/English.txt']\n",
            "au e truong thanh.\n"
          ],
          "name": "stdout"
        }
      ]
    },
    {
      "cell_type": "code",
      "metadata": {
        "id": "NKxCVJ6TrmQM",
        "colab_type": "code",
        "colab": {}
      },
      "source": [
        "import torch.nn as nn \n",
        "\n",
        "class RNN(nn.Module):\n",
        "  def __init__(self, category_size, input_size, hidden_size, output_size):\n",
        "    super().__init__()\n",
        "    self.hidden_size = hidden_size\n",
        "    self.i2o = nn.Linear(category_size + input_size + hidden_size, output_size)\n",
        "    self.i2h = nn.Linear(category_size + input_size + hidden_size, hidden_size)\n",
        "    self.o2o = nn.Linear(output_size + hidden_size, output_size)\n",
        "    self.dropout = nn.Dropout(0.3)\n",
        "    self.softmax = nn.LogSoftmax(dim=1)\n",
        "  \n",
        "  def forward(self, category, input, hidden):\n",
        "    input_combined = torch.cat((category, input, hidden), 1)\n",
        "    output = self.i2o(input_combined)\n",
        "    hidden = self.i2h(input_combined)\n",
        "    out_combined = torch.cat((output, hidden), 1)\n",
        "    output = self.o2o(out_combined)\n",
        "    output = self.dropout(output)\n",
        "    output = self.softmax(output)\n",
        "    return output, hidden\n",
        "  \n",
        "  def init_hidden(self):\n",
        "    return torch.zeros((1, self.hidden_size)).to(device)\n",
        "\n",
        "device = \"cuda\" if torch.cuda.is_available() else \"cpu\"\n",
        "\n",
        "n_hidden = 128\n",
        "rnn = RNN(n_categories, n_letters, n_hidden, n_letters).to(device)"
      ],
      "execution_count": 0,
      "outputs": []
    },
    {
      "cell_type": "code",
      "metadata": {
        "id": "fNE-ByYzwH6i",
        "colab_type": "code",
        "colab": {}
      },
      "source": [
        "import random \n",
        "\n",
        "def randomChoice(l):\n",
        "  return l[random.randint(0, len(l)-1)]\n",
        "\n",
        "def randomTrainingPair():\n",
        "  category = randomChoice(all_categories)\n",
        "  line = randomChoice(category_lines[category])\n",
        "  return category, line"
      ],
      "execution_count": 0,
      "outputs": []
    },
    {
      "cell_type": "code",
      "metadata": {
        "id": "cxdCa2BKw7wB",
        "colab_type": "code",
        "colab": {}
      },
      "source": [
        "def letterToIndex(letter):\n",
        "  return all_letters.find(letter)\n",
        "\n",
        "def letterToTensor(letter):\n",
        "  tensor = torch.zeros((1, n_letters))\n",
        "  tensor[0][letterToIndex(letter)] = 1 \n",
        "  return tensor.to(device)\n",
        "\n",
        "def lineToTensor(line):\n",
        "  input_tensor = torch.zeros((len(line), 1, n_letters))\n",
        "  target_tensor = torch.LongTensor((len(line)))\n",
        "  for li, letter in enumerate(line):\n",
        "    input_tensor[li][0][letterToIndex(letter)] = 1\n",
        "    if li > 0:\n",
        "      target_tensor[li-1] = letterToIndex(letter)\n",
        "  target_tensor[-1] = n_letters - 1\n",
        "  return input_tensor, target_tensor"
      ],
      "execution_count": 0,
      "outputs": []
    },
    {
      "cell_type": "code",
      "metadata": {
        "id": "p0eHdRPY1poh",
        "colab_type": "code",
        "colab": {}
      },
      "source": [
        "def categoryTensor(category):\n",
        "  li = all_categories.index(category)\n",
        "  tensor = torch.zeros((1, n_categories))\n",
        "  tensor[0][li] = 1\n",
        "  return tensor.to(device)"
      ],
      "execution_count": 0,
      "outputs": []
    },
    {
      "cell_type": "code",
      "metadata": {
        "id": "F5ZFs0E9zBZ1",
        "colab_type": "code",
        "colab": {}
      },
      "source": [
        "def randomTrainingExample():\n",
        "  category, line = randomTrainingPair()\n",
        "  category_tensor = categoryTensor(category)\n",
        "  input_tensor, target_tensor = lineToTensor(line)\n",
        "  return category_tensor.to(device), input_tensor.to(device), target_tensor.to(device)"
      ],
      "execution_count": 0,
      "outputs": []
    },
    {
      "cell_type": "code",
      "metadata": {
        "id": "Tg_ixag91eQU",
        "colab_type": "code",
        "colab": {}
      },
      "source": [
        "criterion = nn.NLLLoss()\n",
        "learning_rate = 5e-3\n",
        "\n",
        "def train(category_tensor, input_tensor, target_tensor):\n",
        "  target_tensor.unsqueeze_(-1)\n",
        "  hidden = rnn.init_hidden()\n",
        "  loss = 0 \n",
        "  rnn.zero_grad()\n",
        "\n",
        "  for i in range(input_tensor.size()[0]):\n",
        "    output, hidden = rnn(category_tensor, input_tensor[i], hidden)\n",
        "    l = criterion(output, target_tensor[i])\n",
        "    loss += l\n",
        "\n",
        "  loss.backward()\n",
        "\n",
        "  for param in rnn.parameters():\n",
        "    param.data.add_(-learning_rate, param.grad.data)\n",
        "\n",
        "  return output, loss.item()/input_tensor.size()[0]"
      ],
      "execution_count": 0,
      "outputs": []
    },
    {
      "cell_type": "code",
      "metadata": {
        "id": "D8jHhrvk5LwF",
        "colab_type": "code",
        "outputId": "a982652c-bff6-43e3-f61d-0943c5b0cdd7",
        "colab": {
          "base_uri": "https://localhost:8080/",
          "height": 364
        }
      },
      "source": [
        "import time \n",
        "\n",
        "def timeSince(since):\n",
        "  now = time.time()\n",
        "  s = now - since \n",
        "  m = s // 60\n",
        "  s -= m*60\n",
        "  return ' %dm %ds ' %(m, s)\n",
        "\n",
        "n_iters = 100000\n",
        "print_every = 5000\n",
        "plot_every = 1000\n",
        "total_loss = 0\n",
        "losses = []\n",
        "start = time.time()\n",
        "\n",
        "for iter in range(1, n_iters+1):\n",
        "  category_tensor, input_tensor, target_tensor = randomTrainingExample()\n",
        "  output, loss = train(category_tensor, input_tensor, target_tensor)\n",
        "  total_loss += loss\n",
        "\n",
        "  if iter % print_every == 0:\n",
        "    print(f' {timeSince(start)} ({iter} {iter*100/n_iters}%) {loss}')\n",
        "\n",
        "  if iter % plot_every == 0:\n",
        "    losses.append(total_loss/plot_every)\n",
        "    total_loss = 0"
      ],
      "execution_count": 0,
      "outputs": [
        {
          "output_type": "stream",
          "text": [
            "  0m 34s  (5000 5.0%) 1.5802613894144695\n",
            "  1m 9s  (10000 10.0%) 2.048708438873291\n",
            "  1m 44s  (15000 15.0%) 3.2006441752115884\n",
            "  2m 19s  (20000 20.0%) 3.169278860092163\n",
            "  2m 53s  (25000 25.0%) 2.6975342886788503\n",
            "  3m 28s  (30000 30.0%) 2.2397493634905135\n",
            "  4m 3s  (35000 35.0%) 2.549009323120117\n",
            "  4m 37s  (40000 40.0%) 1.689297040303548\n",
            "  5m 12s  (45000 45.0%) 2.382789929707845\n",
            "  5m 47s  (50000 50.0%) 2.5367439814976285\n",
            "  6m 22s  (55000 55.0%) 2.7974514961242676\n",
            "  6m 56s  (60000 60.0%) 2.2597157955169678\n",
            "  7m 31s  (65000 65.0%) 2.7515642166137697\n",
            "  8m 5s  (70000 70.0%) 2.206803560256958\n",
            "  8m 39s  (75000 75.0%) 2.729053224836077\n",
            "  9m 14s  (80000 80.0%) 2.2989084720611572\n",
            "  9m 49s  (85000 85.0%) 2.4284608023507253\n",
            "  10m 24s  (90000 90.0%) 2.160863494873047\n",
            "  10m 58s  (95000 95.0%) 2.917853355407715\n",
            "  11m 34s  (100000 100.0%) 2.7847954432169595\n"
          ],
          "name": "stdout"
        }
      ]
    },
    {
      "cell_type": "code",
      "metadata": {
        "id": "EnBIT5GkKVi-",
        "colab_type": "code",
        "outputId": "1b9abc38-7948-40c3-abae-abbe10f4eaa9",
        "colab": {
          "base_uri": "https://localhost:8080/",
          "height": 282
        }
      },
      "source": [
        "import matplotlib.pyplot as plt\n",
        "import matplotlib.ticker as ticker \n",
        "\n",
        "plt.figure()\n",
        "plt.plot(losses)"
      ],
      "execution_count": 0,
      "outputs": [
        {
          "output_type": "execute_result",
          "data": {
            "text/plain": [
              "[<matplotlib.lines.Line2D at 0x7fdac043e128>]"
            ]
          },
          "metadata": {
            "tags": []
          },
          "execution_count": 56
        },
        {
          "output_type": "display_data",
          "data": {
            "image/png": "[encoded data removed]",
            "text/plain": [
              "<Figure size 432x288 with 1 Axes>"
            ]
          },
          "metadata": {
            "tags": [],
            "needs_background": "light"
          }
        }
      ]
    },
    {
      "cell_type": "code",
      "metadata": {
        "id": "qnFxL1AEB74o",
        "colab_type": "code",
        "colab": {}
      },
      "source": [
        "def sample(category, start_letter):\n",
        "  with torch.no_grad():\n",
        "    input_tensor = letterToTensor(start_letter)\n",
        "    hidden = rnn.init_hidden()\n",
        "    category_tensor = categoryTensor(category)\n",
        "    results = start_letter\n",
        "    while True:\n",
        "      output, hidden = rnn(category_tensor, input_tensor, hidden)\n",
        "      top_n, top_i = output.topk(1)\n",
        "      if top_i == n_letters - 1:\n",
        "        return results\n",
        "      input_tensor = letterToTensor(all_letters[top_i])\n",
        "      results += all_letters[top_i]\n",
        "\n",
        "def samples(category, start_letters='ABC'):\n",
        "  for start_letter in start_letters:\n",
        "    print(sample(category, start_letter))"
      ],
      "execution_count": 0,
      "outputs": []
    },
    {
      "cell_type": "code",
      "metadata": {
        "id": "_eEI67I1MR7p",
        "colab_type": "code",
        "outputId": "ef284046-392d-4bf9-b3da-df0f3aedb366",
        "colab": {
          "base_uri": "https://localhost:8080/",
          "height": 69
        }
      },
      "source": [
        "samples('Russian', 'RUS')"
      ],
      "execution_count": 0,
      "outputs": [
        {
          "output_type": "stream",
          "text": [
            "Roshuv\n",
            "Usko\n",
            "Shavakelov\n"
          ],
          "name": "stdout"
        }
      ]
    },
    {
      "cell_type": "code",
      "metadata": {
        "id": "psAamkcAMbxU",
        "colab_type": "code",
        "outputId": "08c3a6c8-8ab5-44ef-e0b7-d1979a73dbc9",
        "colab": {
          "base_uri": "https://localhost:8080/",
          "height": 69
        }
      },
      "source": [
        "samples('Japanese', 'TLN')"
      ],
      "execution_count": 0,
      "outputs": [
        {
          "output_type": "stream",
          "text": [
            "Tamako\n",
            "Lawska\n",
            "Naka\n"
          ],
          "name": "stdout"
        }
      ]
    },
    {
      "cell_type": "code",
      "metadata": {
        "id": "7HshNx6pOYaT",
        "colab_type": "code",
        "outputId": "f1a27060-cb82-491b-8f45-de32ed9a5473",
        "colab": {
          "base_uri": "https://localhost:8080/",
          "height": 52
        }
      },
      "source": [
        "samples('Vietnamese', 'LT')"
      ],
      "execution_count": 0,
      "outputs": [
        {
          "output_type": "stream",
          "text": [
            "Lam\n",
            "Tham\n"
          ],
          "name": "stdout"
        }
      ]
    },
    {
      "cell_type": "code",
      "metadata": {
        "id": "yAyamjZNOrys",
        "colab_type": "code",
        "outputId": "0ab27592-ce1b-43f8-c80f-e38021a27211",
        "colab": {
          "base_uri": "https://localhost:8080/",
          "height": 54
        }
      },
      "source": [
        "print(category_lines['Vietnamese'])"
      ],
      "execution_count": 0,
      "outputs": [
        {
          "output_type": "stream",
          "text": [
            "['Nguyen', 'Tron', 'Le', 'Pham', 'Huynh', 'Hoang', 'Phan', 'Vu', 'Vo', 'Dang', 'Bui', 'Do', 'Ho', 'Ngo', 'Duong', 'Ly', 'An', 'an', 'Bach', 'Banh', 'Cao', 'Chau', 'Chu', 'Chung', 'Chu', 'Diep', 'Doan', 'Dam', 'Dao', 'Dinh', 'Doan', 'Giang', 'Ha', 'Han', 'Kieu', 'Kim', 'La', 'Lac', 'Lam', 'Lieu', 'Luc', 'Luong', 'Luu', 'Ma', 'Mach', 'Mai', 'Nghiem', 'Phi', 'Pho', 'Phung', 'Quach', 'Quang', 'Quyen', 'Ta', 'Thach', 'Thai', 'Sai', 'Thi', 'Than', 'Thao', 'Thuy', 'Tieu', 'To', 'Ton', 'Tong', 'Trang', 'Trieu', 'Trinh', 'Truong', 'Van', 'Vinh', 'Vuong', 'Vuu']\n"
          ],
          "name": "stdout"
        }
      ]
    },
    {
      "cell_type": "code",
      "metadata": {
        "id": "vXwQGSlpO4yN",
        "colab_type": "code",
        "colab": {}
      },
      "source": [
        ""
      ],
      "execution_count": 0,
      "outputs": []
    }
  ]
}