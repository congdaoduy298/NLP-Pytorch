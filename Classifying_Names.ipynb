{
  "nbformat": 4,
  "nbformat_minor": 0,
  "metadata": {
    "colab": {
      "name": "Classifying Names",
      "provenance": [],
      "collapsed_sections": []
    },
    "kernelspec": {
      "name": "python3",
      "display_name": "Python 3"
    },
    "accelerator": "GPU"
  },
  "cells": [
    {
      "cell_type": "code",
      "metadata": {
        "id": "Hdrd6b60E_Cs",
        "colab_type": "code",
        "outputId": "bf023506-08ed-4d88-ba4a-3df921c229ba",
        "colab": {
          "base_uri": "https://localhost:8080/",
          "height": 34
        }
      },
      "source": [
        "!wget -q https://download.pytorch.org/tutorial/data.zip\n",
        "!unzip -q data.zip\n",
        "!rm data.zip"
      ],
      "execution_count": 0,
      "outputs": [
        {
          "output_type": "stream",
          "text": [
            "replace data/eng-fra.txt? [y]es, [n]o, [A]ll, [N]one, [r]ename: N\n"
          ],
          "name": "stdout"
        }
      ]
    },
    {
      "cell_type": "code",
      "metadata": {
        "id": "vdOx-qxtfIRj",
        "colab_type": "code",
        "outputId": "84853077-ad8f-47dd-cf34-d852acb81611",
        "colab": {
          "base_uri": "https://localhost:8080/",
          "height": 72
        }
      },
      "source": [
        "import glob \n",
        "import unicodedata\n",
        "import string \n",
        "import os \n",
        "import torch \n",
        "\n",
        "def findFiles(filepath): return glob.glob(filepath)\n",
        "\n",
        "print(findFiles('data/names/*.txt'))\n",
        "\n",
        "all_letters = string.ascii_letters + \" .,;'\"\n",
        "n_letters = len(all_letters)\n",
        "\n",
        "# Turn a Unicode string to plain ASCII, thanks to https://stackoverflow.com/a/518232/2809427\n",
        "def unicodeToAscii(s):\n",
        "  return ''.join(\n",
        "      c for c in unicodedata.normalize('NFD', s)\n",
        "      if unicodedata.category(c) != 'Mn' \n",
        "      and c in all_letters\n",
        "  )\n",
        "\n",
        "print(unicodeToAscii('đau để trưởng thành.'))\n",
        "\n",
        "category_lines = {}\n",
        "all_categories = []\n",
        "\n",
        "def readlines(filename):\n",
        "  lines = open(filename, encoding='utf8').read().strip().split('\\n')\n",
        "  return [unicodeToAscii(line) for line in lines]\n",
        "\n",
        "for filename in findFiles('data/names/*.txt'):\n",
        "  category = os.path.splitext(os.path.basename(filename))[0]\n",
        "  all_categories.append(category)\n",
        "  lines = readlines(filename)\n",
        "  category_lines[category] = lines\n",
        "\n",
        "n_categories = len(all_categories)"
      ],
      "execution_count": 0,
      "outputs": [
        {
          "output_type": "stream",
          "text": [
            "['data/names/Greek.txt', 'data/names/Vietnamese.txt', 'data/names/German.txt', 'data/names/Dutch.txt', 'data/names/Irish.txt', 'data/names/Scottish.txt', 'data/names/Chinese.txt', 'data/names/French.txt', 'data/names/Czech.txt', 'data/names/Italian.txt', 'data/names/Russian.txt', 'data/names/Korean.txt', 'data/names/Arabic.txt', 'data/names/Portuguese.txt', 'data/names/Japanese.txt', 'data/names/Spanish.txt', 'data/names/Polish.txt', 'data/names/English.txt']\n",
            "au e truong thanh.\n"
          ],
          "name": "stdout"
        }
      ]
    },
    {
      "cell_type": "code",
      "metadata": {
        "id": "lkXbys3BgjoT",
        "colab_type": "code",
        "outputId": "d99ef663-70da-4324-f515-118def1a0cf5",
        "colab": {
          "base_uri": "https://localhost:8080/",
          "height": 34
        }
      },
      "source": [
        "category_lines['Vietnamese'][:5]"
      ],
      "execution_count": 0,
      "outputs": [
        {
          "output_type": "execute_result",
          "data": {
            "text/plain": [
              "['Nguyen', 'Tron', 'Le', 'Pham', 'Huynh']"
            ]
          },
          "metadata": {
            "tags": []
          },
          "execution_count": 16
        }
      ]
    },
    {
      "cell_type": "code",
      "metadata": {
        "id": "3R6BJkftj6D2",
        "colab_type": "code",
        "outputId": "0d4e4533-1f2b-439e-eb97-c8e4476f9c88",
        "colab": {
          "base_uri": "https://localhost:8080/",
          "height": 52
        }
      },
      "source": [
        "def letterToIndex(letter):\n",
        "  return all_letters.find(letter)\n",
        "\n",
        "def letterToTensor(letter):\n",
        "  tensor = torch.zeros(1, n_letters)\n",
        "  tensor[0][letterToIndex(letter)] = 1\n",
        "  return tensor \n",
        "\n",
        "def lineToTensor(line):\n",
        "  tensor = torch.zeros(len(line), 1, n_letters)\n",
        "  for li, letter in enumerate(line):\n",
        "    tensor[li][0][letterToIndex(letter)] = 1\n",
        "  return tensor\n",
        "\n",
        "print(letterToIndex('C'))\n",
        "print(lineToTensor('Cong').size())"
      ],
      "execution_count": 0,
      "outputs": [
        {
          "output_type": "stream",
          "text": [
            "28\n",
            "torch.Size([4, 1, 57])\n"
          ],
          "name": "stdout"
        }
      ]
    },
    {
      "cell_type": "code",
      "metadata": {
        "id": "Q-x3PYx7nkTE",
        "colab_type": "code",
        "colab": {}
      },
      "source": [
        "import torch.nn as nn \n",
        "import torch.nn.functional as F\n",
        "\n",
        "class RNN(nn.Module):\n",
        "  def __init__(self, input_size, hidden_size, output_size):\n",
        "    super().__init__()\n",
        "    self.hidden_size = hidden_size\n",
        "    self.i2h = nn.Linear(input_size + hidden_size, hidden_size)\n",
        "    self.i2o = nn.Linear(input_size + hidden_size, output_size)\n",
        "    self.log_softmax = nn.LogSoftmax(dim=1)\n",
        "  \n",
        "  def forward(self, input, hidden):\n",
        "    combined = torch.cat((input, hidden), 1)\n",
        "    hidden = self.i2h(combined)\n",
        "    output = self.i2o(combined)\n",
        "    output = self.log_softmax(output)\n",
        "    return output, hidden\n",
        "\n",
        "  def init_hidden(self):\n",
        "    return torch.zeros((1, self.hidden_size)).to(device)\n",
        "\n",
        "device = \"cuda\" if torch.cuda.is_available() else \"cpu\"\n",
        "hidden_size = 128\n",
        "rnn = RNN(n_letters, hidden_size, n_categories).to(device)"
      ],
      "execution_count": 0,
      "outputs": []
    },
    {
      "cell_type": "code",
      "metadata": {
        "id": "ufkFhCwwnwtk",
        "colab_type": "code",
        "outputId": "8958a2bb-b7a6-43bd-eebe-6ca9f292ecfa",
        "colab": {
          "base_uri": "https://localhost:8080/",
          "height": 364
        }
      },
      "source": [
        "# Test model \n",
        "input = letterToTensor('A').to(device)\n",
        "hidden = torch.zeros((1, hidden_size)).to(device)\n",
        "output, hidden = rnn(input, hidden)\n",
        "print(output)\n",
        "print(hidden)"
      ],
      "execution_count": 0,
      "outputs": [
        {
          "output_type": "stream",
          "text": [
            "tensor([[-2.8834, -2.8024, -2.8279, -2.8532, -2.9149, -2.9552, -2.9419, -2.9472,\n",
            "         -2.8736, -2.8513, -2.9392, -2.9608, -2.9086, -2.7750, -2.9209, -2.9106,\n",
            "         -2.8835, -2.9013]], device='cuda:0', grad_fn=<LogSoftmaxBackward>)\n",
            "tensor([[-0.0435, -0.0323, -0.0082,  0.0600,  0.0094, -0.0267, -0.0890,  0.0874,\n",
            "          0.0619,  0.0384, -0.1034,  0.0524,  0.0239, -0.0663,  0.1137, -0.0378,\n",
            "         -0.0346, -0.0339, -0.0005,  0.0528, -0.0822, -0.0621,  0.0303,  0.0760,\n",
            "          0.0348, -0.0122, -0.0121, -0.0229,  0.1210, -0.0864,  0.1314,  0.0650,\n",
            "          0.0355, -0.0341, -0.0036, -0.0616, -0.0262,  0.0621,  0.0148, -0.0211,\n",
            "          0.0242,  0.0472,  0.0976,  0.0591,  0.0090, -0.0395, -0.0154, -0.0203,\n",
            "          0.0052,  0.0598, -0.0089, -0.0139,  0.0523, -0.0594, -0.0567,  0.0754,\n",
            "          0.0342, -0.0976, -0.1161, -0.0863, -0.0749, -0.0161, -0.0272,  0.0455,\n",
            "          0.0933,  0.0462, -0.0476, -0.0774,  0.0454,  0.0325, -0.0798,  0.0983,\n",
            "          0.0322, -0.1027, -0.0078,  0.0235, -0.0479,  0.0294,  0.1035,  0.0112,\n",
            "         -0.0539, -0.0130,  0.0126, -0.0567,  0.0263,  0.0163,  0.0832,  0.0195,\n",
            "          0.0548,  0.0288,  0.0704,  0.0814, -0.0422, -0.0349, -0.0235,  0.0382,\n",
            "          0.0079, -0.1146,  0.0197,  0.0114, -0.0535,  0.0601, -0.1253,  0.0111,\n",
            "         -0.1037,  0.0489, -0.0598,  0.0228, -0.0358, -0.0347,  0.0428,  0.0342,\n",
            "          0.0154,  0.0088, -0.0292, -0.0100,  0.0363, -0.0092,  0.0466, -0.0479,\n",
            "         -0.0180, -0.0394, -0.1109,  0.0360,  0.0844, -0.0246,  0.0176,  0.0737]],\n",
            "       device='cuda:0', grad_fn=<AddmmBackward>)\n"
          ],
          "name": "stdout"
        }
      ]
    },
    {
      "cell_type": "code",
      "metadata": {
        "id": "o7Zl4BRQVNE3",
        "colab_type": "code",
        "outputId": "0e2e9b97-18cb-4807-c8ad-45b746c26a33",
        "colab": {
          "base_uri": "https://localhost:8080/",
          "height": 34
        }
      },
      "source": [
        "def categoryFromOutput(output):\n",
        "  top_n, top_i = output.topk(1)\n",
        "  category_i = top_i[0].item()\n",
        "  return all_categories[category_i], category_i\n",
        "\n",
        "print(categoryFromOutput(output))"
      ],
      "execution_count": 0,
      "outputs": [
        {
          "output_type": "stream",
          "text": [
            "('Portuguese', 13)\n"
          ],
          "name": "stdout"
        }
      ]
    },
    {
      "cell_type": "code",
      "metadata": {
        "id": "geaNl3cqWmv7",
        "colab_type": "code",
        "outputId": "86395b68-5327-4d15-8ed6-f5817617f2ca",
        "colab": {
          "base_uri": "https://localhost:8080/",
          "height": 191
        }
      },
      "source": [
        "import random \n",
        "\n",
        "def randomChoice(l):\n",
        "  return l[random.randint(0, len(l)-1)]\n",
        "\n",
        "def randomTrainingExample():\n",
        "  category = randomChoice(all_categories)\n",
        "  line = randomChoice(category_lines[category])\n",
        "  category_tensor = torch.LongTensor([all_categories.index(category)]).to(device)\n",
        "  line_tensor = lineToTensor(line).to(device)\n",
        "  return category, line, category_tensor, line_tensor\n",
        "\n",
        "for i in range(10):\n",
        "  category, line, category_tensor, line_tensor = randomTrainingExample()\n",
        "  print('category = ', category, '/ line = ', line)"
      ],
      "execution_count": 0,
      "outputs": [
        {
          "output_type": "stream",
          "text": [
            "category =  English / line =  Buckley\n",
            "category =  Chinese / line =  Shaw\n",
            "category =  French / line =  Bonhomme\n",
            "category =  Italian / line =  Lagana\n",
            "category =  Korean / line =  Chang\n",
            "category =  Dutch / line =  Klerkse\n",
            "category =  Portuguese / line =  Coelho\n",
            "category =  English / line =  Rawlinson\n",
            "category =  Russian / line =  Tumenov\n",
            "category =  Greek / line =  Papadopulos\n"
          ],
          "name": "stdout"
        }
      ]
    },
    {
      "cell_type": "code",
      "metadata": {
        "id": "lUKbVeCZYQVE",
        "colab_type": "code",
        "colab": {}
      },
      "source": [
        "criterion = nn.NLLLoss()"
      ],
      "execution_count": 0,
      "outputs": []
    },
    {
      "cell_type": "code",
      "metadata": {
        "id": "nCBmf1_TY20d",
        "colab_type": "code",
        "colab": {}
      },
      "source": [
        "learning_rate = 5e-3 \n",
        "\n",
        "def train(category_tensor, line_tensor):\n",
        "  hidden = rnn.init_hidden()\n",
        "  \n",
        "  rnn.zero_grad()\n",
        "\n",
        "  for  i in range(line_tensor.size()[0]):\n",
        "    output, hidden = rnn(line_tensor[i], hidden)\n",
        "\n",
        "  loss = criterion(output, category_tensor)\n",
        "  loss.backward()\n",
        "\n",
        "  for param in rnn.parameters():\n",
        "    param.data.add_(-learning_rate, param.grad.data)\n",
        "  \n",
        "  return output, loss.item()"
      ],
      "execution_count": 0,
      "outputs": []
    },
    {
      "cell_type": "code",
      "metadata": {
        "id": "2MjO_S4tanqp",
        "colab_type": "code",
        "outputId": "6aa7cb85-279e-4a8b-f3e6-7b4039cd777b",
        "colab": {
          "base_uri": "https://localhost:8080/",
          "height": 364
        }
      },
      "source": [
        "import time \n",
        "import math \n",
        "\n",
        "n_iters = 100000\n",
        "print_every = 5000\n",
        "plot_every = 1000\n",
        "\n",
        "current_loss = 0 \n",
        "all_losses = []\n",
        "\n",
        "def timeSince(since):\n",
        "  now = time.time()\n",
        "  s = now - since \n",
        "  m = s // 60\n",
        "  s -= m*60\n",
        "  return \" %dm %ds \" %(m, s)\n",
        "\n",
        "start = time.time()\n",
        "\n",
        "for iter in range(1, n_iters + 1):\n",
        "  category, line, category_tensor, line_tensor = randomTrainingExample()\n",
        "  output, loss = train(category_tensor, line_tensor)\n",
        "  current_loss += loss \n",
        "\n",
        "  if iter % print_every == 0:\n",
        "    guess, guess_i = categoryFromOutput(output)\n",
        "    correct = '✓' if guess == category else '✗ (%s)' % category\n",
        "    print('%d %d%% (%s) %.4f %s / %s %s' % (iter, iter / n_iters * 100, timeSince(start), loss, line, guess, correct))\n",
        "  \n",
        "  if iter % plot_every == 0:\n",
        "    all_losses.append(current_loss / plot_every)\n",
        "    current_loss = 0"
      ],
      "execution_count": 0,
      "outputs": [
        {
          "output_type": "stream",
          "text": [
            "5000 5% ( 0m 16s ) 2.4815 Sloan / Arabic ✗ (Irish)\n",
            "10000 10% ( 0m 33s ) 2.3432 Gentile / Scottish ✗ (Italian)\n",
            "15000 15% ( 0m 49s ) 1.7553 Shelyakin / Russian ✓\n",
            "20000 20% ( 1m 6s ) 2.7457 Rumpade / French ✗ (Dutch)\n",
            "25000 25% ( 1m 22s ) 3.2576 Niftrik / Czech ✗ (Dutch)\n",
            "30000 30% ( 1m 38s ) 2.3922 Dempster / German ✗ (English)\n",
            "35000 35% ( 1m 55s ) 1.6399 Hierro / Portuguese ✗ (Spanish)\n",
            "40000 40% ( 2m 12s ) 3.6381 Roosa / Spanish ✗ (Dutch)\n",
            "45000 45% ( 2m 29s ) 0.5949 Nannini / Italian ✓\n",
            "50000 50% ( 2m 45s ) 0.1586 O'Ryan / Irish ✓\n",
            "55000 55% ( 3m 1s ) 1.5621 Lim / Chinese ✓\n",
            "60000 60% ( 3m 17s ) 0.8679 Amari / Arabic ✓\n",
            "65000 65% ( 3m 34s ) 0.9192 Dubhain / Irish ✓\n",
            "70000 70% ( 3m 50s ) 0.0944 O'Malley / Irish ✓\n",
            "75000 75% ( 4m 6s ) 1.8448 Grec / German ✗ (Spanish)\n",
            "80000 80% ( 4m 22s ) 1.6745 Gomes / Dutch ✗ (Portuguese)\n",
            "85000 85% ( 4m 39s ) 0.1664 Mustafa / Arabic ✓\n",
            "90000 90% ( 4m 54s ) 0.7175 Riain / Irish ✓\n",
            "95000 95% ( 5m 11s ) 0.0521 Passerini / Italian ✓\n",
            "100000 100% ( 5m 27s ) 2.7869 Ajdrna / Spanish ✗ (Czech)\n"
          ],
          "name": "stdout"
        }
      ]
    },
    {
      "cell_type": "code",
      "metadata": {
        "id": "q-TSMQAacbJa",
        "colab_type": "code",
        "outputId": "98d36edb-3b65-4bd8-cb77-07939c97f013",
        "colab": {
          "base_uri": "https://localhost:8080/",
          "height": 282
        }
      },
      "source": [
        "import matplotlib.pyplot as plt \n",
        "import matplotlib.ticker as ticker \n",
        "\n",
        "plt.figure()\n",
        "plt.plot(all_losses)"
      ],
      "execution_count": 0,
      "outputs": [
        {
          "output_type": "execute_result",
          "data": {
            "text/plain": [
              "[<matplotlib.lines.Line2D at 0x7f4c03648f98>]"
            ]
          },
          "metadata": {
            "tags": []
          },
          "execution_count": 28
        },
        {
          "output_type": "display_data",
          "data": {
            "image/png": "[encoded data removed]",
            "text/plain": [
              "<Figure size 432x288 with 1 Axes>"
            ]
          },
          "metadata": {
            "tags": [],
            "needs_background": "light"
          }
        }
      ]
    },
    {
      "cell_type": "code",
      "metadata": {
        "id": "_my5EPeOS2nb",
        "colab_type": "code",
        "outputId": "a90df759-30ad-4468-9d63-2cf33f14c18c",
        "colab": {
          "base_uri": "https://localhost:8080/",
          "height": 320
        }
      },
      "source": [
        "confusion = torch.zeros(n_categories, n_categories)\n",
        "n_confusion = 1000\n",
        "\n",
        "def evaluate(line_tensor):\n",
        "  hidden = rnn.init_hidden()\n",
        "  for i in range(line_tensor.size()[0]):\n",
        "    output, hidden = rnn(line_tensor[i], hidden)\n",
        "  return output\n",
        "  \n",
        "for i in range(n_confusion):\n",
        "  category, line, category_tensor, line_tensor = randomTrainingExample()\n",
        "  output = evaluate(line_tensor)\n",
        "  guess_n, guess_i = categoryFromOutput(output)\n",
        "  category_i = all_categories.index(category)\n",
        "  confusion[category_i][guess_i] += 1\n",
        "\n",
        "for i in range(n_categories):\n",
        "  confusion[i] = confusion[i]/confusion[i].sum()\n",
        "\n",
        "fig = plt.figure()\n",
        "ax = fig.add_subplot(111)\n",
        "cax = ax.matshow(confusion.numpy())\n",
        "fig.colorbar(cax)\n",
        "\n",
        "ax.set_xticklabels([''] + all_categories, rotation=90)\n",
        "ax.set_yticklabels([''] + all_categories)\n",
        "\n",
        "ax.xaxis.set_major_locator(ticker.MultipleLocator(1))\n",
        "ax.yaxis.set_major_locator(ticker.MultipleLocator(1))\n",
        "\n",
        "plt.show()"
      ],
      "execution_count": 0,
      "outputs": [
        {
          "output_type": "display_data",
          "data": {
            "image/png": "[encoded data removed]",
            "text/plain": [
              "<Figure size 432x288 with 2 Axes>"
            ]
          },
          "metadata": {
            "tags": [],
            "needs_background": "light"
          }
        }
      ]
    },
    {
      "cell_type": "code",
      "metadata": {
        "id": "TN2HdLndccn4",
        "colab_type": "code",
        "colab": {}
      },
      "source": [
        ""
      ],
      "execution_count": 0,
      "outputs": []
    }
  ]
}